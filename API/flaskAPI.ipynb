{
 "cells": [
  {
   "cell_type": "code",
   "execution_count": 1,
   "metadata": {},
   "outputs": [],
   "source": [
    "def convertir_a_centimos(precio_str):\n",
    "\n",
    "    precio_str = precio_str.replace(\",\", \".\")\n",
    "\n",
    "    try:\n",
    "        precio_float = float(precio_str)\n",
    "    except ValueError:\n",
    "        return None  \n",
    "    precio_centimos = int(round(precio_float * 100))\n",
    "\n",
    "    return precio_centimos\n"
   ]
  },
  {
   "cell_type": "code",
   "execution_count": null,
   "metadata": {},
   "outputs": [
    {
     "name": "stdout",
     "output_type": "stream",
     "text": [
      " * Serving Flask app '__main__'\n",
      " * Debug mode: off\n"
     ]
    },
    {
     "name": "stderr",
     "output_type": "stream",
     "text": [
      "\u001b[31m\u001b[1mWARNING: This is a development server. Do not use it in a production deployment. Use a production WSGI server instead.\u001b[0m\n",
      " * Running on http://127.0.0.1:5000\n",
      "\u001b[33mPress CTRL+C to quit\u001b[0m\n"
     ]
    }
   ],
   "source": [
    "from flask import Flask, jsonify\n",
    "import  pandas as pd\n",
    "import joblib\n",
    "app=Flask(__name__)\n",
    "@app.route('/grafica/<Precio>/<VRAM>/<HDMI>/<Displayport>/<Energia>/<GDDR>')\n",
    "def get_ordenador(Precio, VRAM, HDMI, Displayport,Energia, GDDR):\n",
    "   \n",
    "    try:\n",
    "        gddr3 = gddr4 = gddr5 = gddr6 = gddr6x = gddr7 = False\n",
    "        precioValor2 = convertir_a_centimos(Precio)\n",
    "        if precioValor2 is None:\n",
    "            return jsonify({\"error\": \"Precio inválido. Debe ser un número válido.\"}), 400\n",
    "        if VRAM.isdigit():\n",
    "            vramValor = VRAM\n",
    "        if HDMI.isdigit():\n",
    "            hdmiValor = HDMI\n",
    "        if Displayport.isdigit():\n",
    "            displayValor = Displayport\n",
    "        if Energia.isdigit():\n",
    "            energiaValor = Energia\n",
    "        match GDDR.upper().replace(\"GDDR\", \"\"):\n",
    "            case \"3\":\n",
    "                gddr3 = True\n",
    "            case \"4\":\n",
    "                gddr4 = True\n",
    "            case \"5\":\n",
    "                gddr5 = True\n",
    "            case \"6\":\n",
    "                gddr6 = True\n",
    "            case \"6x\":\n",
    "                gddr6x = True\n",
    "            case \"7\":\n",
    "                gddr7 = True\n",
    "            case _:\n",
    "                return jsonify({\"error\": \"Tipo de GDDR no válido\"}), 400\n",
    "        \n",
    "        datos = pd.DataFrame([{\n",
    "            \"VRAM\": vramValor,\n",
    "            \"HDMI\": hdmiValor,\n",
    "            \"DisplayPort\": displayValor,\n",
    "            \"Energia\": energiaValor,\n",
    "            \"GDDR3\": gddr3,\n",
    "            \"GDDR4\": gddr4,\n",
    "            \"GDDR5\": gddr5,\n",
    "            \"GDDR6\": gddr6,\n",
    "            \"GDDR6X\": gddr6x,\n",
    "            \"GDDR7\": gddr7\n",
    "        }])\n",
    "\n",
    "        modelo = joblib.load('modelo_gb.pkl')\n",
    "\n",
    "        precio_predict =  modelo.predict(datos)\n",
    "\n",
    "        if precio_predict[0]+(precio_predict[0]*0.15) < precioValor2:\n",
    "            price_status =  \"Mal precio muy por encima.\"\n",
    "        elif precio_predict[0]+(precio_predict[0]*0.15) > precioValor2 and precio_predict[0] < precioValor2:\n",
    "            price_status = \"El precio esta un poco por encima.\"\n",
    "        elif precio_predict[0]-(precio_predict[0]*0.20) < precioValor2 and precio_predict[0] > precioValor2:\n",
    "            price_status = \"El precio es bueno.\"\n",
    "        else: \n",
    "            price_status = \"Es muy buen precio.\"\n",
    "        return jsonify({\n",
    "            \"Precio_Predicho\": round(precio_predict[0], 0),\n",
    "            \"Precio_Real\": precioValor2,\n",
    "            \"Estado\": price_status\n",
    "        })\n",
    "    except Exception as e:\n",
    "        return jsonify({\"error\": f\"Ocurrió un error inesperado: {str(e)}\"}), 500\n",
    "    \n",
    "\n",
    "if __name__==\"__main__\":\n",
    "    app.run()   # localhost at 5000"
   ]
  }
 ],
 "metadata": {
  "kernelspec": {
   "display_name": "venv-offer-comparator",
   "language": "python",
   "name": "python3"
  },
  "language_info": {
   "codemirror_mode": {
    "name": "ipython",
    "version": 3
   },
   "file_extension": ".py",
   "mimetype": "text/x-python",
   "name": "python",
   "nbconvert_exporter": "python",
   "pygments_lexer": "ipython3",
   "version": "3.13.2"
  }
 },
 "nbformat": 4,
 "nbformat_minor": 2
}
